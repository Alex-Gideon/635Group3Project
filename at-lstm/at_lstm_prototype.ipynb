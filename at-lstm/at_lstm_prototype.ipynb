{
 "nbformat": 4,
 "nbformat_minor": 0,
 "metadata": {
  "colab": {
   "provenance": []
  },
  "kernelspec": {
   "name": "python3",
   "language": "python",
   "display_name": "Python 3 (ipykernel)"
  },
  "language_info": {
   "name": "python"
  }
 },
 "cells": [
  {
   "cell_type": "code",
   "execution_count": 199,
   "outputs": [],
   "source": [
    "# wv = Word2Vec.load('word2vec.vanilla.model').wv\n",
    "# w2v.train(x_train, epochs=10, total_examples=w2v.corpus_count)\n",
    "# model.save(\"./word2vec.trained.model\")\n",
    "# print('done')\n",
    "\n",
    "import gensim.downloader as api\n",
    "\n",
    "giga_model = api.load('glove-wiki-gigaword-200')\n",
    "giga_model.save('models/w2v.glove.model')\n",
    "print('done')\n",
    "\n"
   ],
   "metadata": {
    "collapsed": false
   }
  }
 ]
}
