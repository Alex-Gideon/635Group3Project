{
 "cells": [
  {
   "cell_type": "code",
   "execution_count": 1,
   "metadata": {
    "collapsed": false
   },
   "outputs": [
    {
     "name": "stdout",
     "output_type": "stream",
     "text": [
      "[==================================================] 100.0% 252.1/252.1MB downloaded\n",
      "done\n"
     ]
    }
   ],
   "source": [
    "# wv = Word2Vec.load('word2vec.vanilla.model').wv\n",
    "# w2v.train(x_train, epochs=10, total_examples=w2v.corpus_count)\n",
    "# model.save(\"./word2vec.trained.model\")\n",
    "# print('done')\n",
    "\n",
    "import gensim.downloader as api\n",
    "\n",
    "giga_model = api.load('glove-wiki-gigaword-200')\n",
    "giga_model.save('models/w2v.glove.model')\n",
    "print('done')\n",
    "\n"
   ]
  }
 ],
 "metadata": {
  "colab": {
   "provenance": []
  },
  "kernelspec": {
   "display_name": "Python 3 (ipykernel)",
   "language": "python",
   "name": "python3"
  },
  "language_info": {
   "codemirror_mode": {
    "name": "ipython",
    "version": 3
   },
   "file_extension": ".py",
   "mimetype": "text/x-python",
   "name": "python",
   "nbconvert_exporter": "python",
   "pygments_lexer": "ipython3",
   "version": "3.7.3"
  }
 },
 "nbformat": 4,
 "nbformat_minor": 0
}
